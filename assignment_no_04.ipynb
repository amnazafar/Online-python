{
 "cells": [
  {
   "cell_type": "code",
   "execution_count": 1,
   "metadata": {},
   "outputs": [
    {
     "name": "stdout",
     "output_type": "stream",
     "text": [
      "{1: {'first_name': 'Amna', 'last_name': 'Zafar', 'age': 18, 'city': 'Karachi'}, 2: {'first_name': 'Aiman', 'last_name': 'Zafar', 'age': 19, 'city': 'Karachi'}}\n",
      "{1: {'first_name': 'Amna', 'last_name': 'Zafar', 'age': 18, 'city': 'Karachi'}, 2: {'first_name': 'Aiman', 'last_name': 'Zafar', 'age': 19, 'city': 'Karachi'}, 'qualification': 'computer science'}\n",
      "{1: {'first_name': 'Amna', 'last_name': 'Zafar', 'age': 18, 'city': 'Karachi'}, 2: {'first_name': 'Aiman', 'last_name': 'Zafar', 'age': 19, 'city': 'Karachi'}}\n"
     ]
    }
   ],
   "source": [
    "person={\n",
    "     1:{\n",
    "        \"first_name\":\"Amna\",\n",
    "        \"last_name\":\"Zafar\",\n",
    "        \"age\":18,\n",
    "        \"city\":\"Karachi\"\n",
    "    },\n",
    "     2:{\n",
    "        \"first_name\":\"Aiman\",\n",
    "        \"last_name\":\"Zafar\",\n",
    "        \"age\":19,\n",
    "        \"city\":\"Karachi\"\n",
    "    }\n",
    "}\n",
    "\n",
    "print(person)\n",
    "person.update({\"qualification\":\"computer science\"})\n",
    "print(person)\n",
    "del person[\"qualification\"]\n",
    "print(person)"
   ]
  },
  {
   "cell_type": "code",
   "execution_count": 2,
   "metadata": {},
   "outputs": [
    {
     "name": "stdout",
     "output_type": "stream",
     "text": [
      "{'Karachi': {'country': 'Pakistan', 'population': '14.91 million', 'fact': 'largest city of Pakistan'}, 'Islamadad': {'country': 'Pakistan', 'population': '1.015 million', 'fact': 'capital city of Pakistan'}, 'Punjab': {'country': 'Pakistan', 'population': '27.98 million', 'fact': 'highest literacy rate'}}\n"
     ]
    }
   ],
   "source": [
    "cities={\n",
    "    \"Karachi\":{\n",
    "        \"country\":\"Pakistan\",\n",
    "        \"population\" : \"14.91 million\",\n",
    "        \"fact\":\"largest city of Pakistan\"\n",
    "    },\n",
    "    \"Islamadad\":{\n",
    "        \"country\":\"Pakistan\",\n",
    "        \"population\":\"1.015 million\",\n",
    "        \"fact\":\"capital city of Pakistan\"\n",
    "    },\n",
    "    \"Punjab\":{\n",
    "        \"country\":\"Pakistan\",\n",
    "        \"population\":\"27.98 million\",\n",
    "        \"fact\":\"highest literacy rate\"\n",
    "    }\n",
    "\n",
    "}\n",
    "print(cities)"
   ]
  },
  {
   "cell_type": "code",
   "execution_count": 3,
   "metadata": {},
   "outputs": [
    {
     "name": "stdout",
     "output_type": "stream",
     "text": [
      "Enter your age : 13\n",
      "the cost of ticket is $15\n"
     ]
    }
   ],
   "source": [
    "age=int(input(\"Enter your age : \"))\n",
    "if age<3:\n",
    "    print(\"your ticket is free of cost\")\n",
    "elif age==3&age<=12:\n",
    "    print(\"the cost of ticket is $10\")\n",
    "elif age>12:\n",
    "    print(\"the cost of ticket is $15\")\n",
    "else:\n",
    "    print(\"Invalid number\")"
   ]
  },
  {
   "cell_type": "code",
   "execution_count": 5,
   "metadata": {},
   "outputs": [
    {
     "name": "stdout",
     "output_type": "stream",
     "text": [
      "One of my favourite book is Alice in WonderLand\n"
     ]
    }
   ],
   "source": [
    "def favorite_book(title):\n",
    "    print(\"One of my favourite book is Alice in WonderLand\")\n",
    "favorite_book(\"book\")\n"
   ]
  },
  {
   "cell_type": "code",
   "execution_count": 7,
   "metadata": {},
   "outputs": [
    {
     "name": "stdout",
     "output_type": "stream",
     "text": [
      "enter number : 22\n",
      "too high\n",
      "guess again : 21\n",
      "too high\n",
      "guess again : 20\n",
      "better luck next time\n"
     ]
    }
   ],
   "source": [
    "import random\n",
    "winning_number=(random.randint(0,30))\n",
    "number=int(input(\"enter number : \"))\n",
    "guess=1\n",
    "game_over=False\n",
    "while True:\n",
    "    if number==winning_number:\n",
    "        print(\"you win!!\")\n",
    "        break\n",
    "    elif number<winning_number:\n",
    "        print(\"too low\")\n",
    "        number=int(input(\"guess again : \"))\n",
    "        guess+=1\n",
    "        if guess==3:\n",
    "            print(\"better luck next time\")\n",
    "            break   \n",
    "    else :\n",
    "        print(\"too high\")\n",
    "        number=int(input(\"guess again : \"))\n",
    "        guess+=1\n",
    "        if guess==3:\n",
    "            print(\"better luck next time\")\n",
    "            break    "
   ]
  },
  {
   "cell_type": "code",
   "execution_count": null,
   "metadata": {},
   "outputs": [],
   "source": []
  }
 ],
 "metadata": {
  "kernelspec": {
   "display_name": "Python 3",
   "language": "python",
   "name": "python3"
  },
  "language_info": {
   "codemirror_mode": {
    "name": "ipython",
    "version": 3
   },
   "file_extension": ".py",
   "mimetype": "text/x-python",
   "name": "python",
   "nbconvert_exporter": "python",
   "pygments_lexer": "ipython3",
   "version": "3.7.3"
  }
 },
 "nbformat": 4,
 "nbformat_minor": 2
}
