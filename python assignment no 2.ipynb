{
 "cells": [
  {
   "cell_type": "code",
   "execution_count": 3,
   "metadata": {},
   "outputs": [
    {
     "name": "stdout",
     "output_type": "stream",
     "text": [
      "enter 5 marks for different subjects: 100,90,80,90,90\n",
      "450\n",
      "A Grade\n"
     ]
    }
   ],
   "source": [
    "mark1,mark2,mark3,mark4,mark5=input(\"enter 5 marks for different subjects: \").split(\",\")\n",
    "mark1=int(mark1)\n",
    "mark2=int(mark2)\n",
    "mark3=int(mark3)\n",
    "mark4=int(mark4)\n",
    "mark5=int(mark5)\n",
    "total=mark1+mark2+mark3+mark4+mark5\n",
    "print(total)\n",
    "if total>=500 :\n",
    "    print(\"A+ Grade\")\n",
    "elif total>=400 :\n",
    "    print(\"A Grade\")\n",
    "elif total>=300 :\n",
    "    print(\"B Grade\")\n",
    "elif total>=0 :\n",
    "    print(\"FAILED\")\n",
    "else:\n",
    "    print(\"you have given inappropriate value\") \n"
   ]
  },
  {
   "cell_type": "code",
   "execution_count": 8,
   "metadata": {},
   "outputs": [
    {
     "name": "stdout",
     "output_type": "stream",
     "text": [
      "enter number : 4\n",
      "even number\n"
     ]
    }
   ],
   "source": [
    "number=int(input(\"enter number : \")) \n",
    "if number%2==0:\n",
    "    print(\"even number\") \n",
    "else: \n",
    "    print(\"odd number\")"
   ]
  },
  {
   "cell_type": "code",
   "execution_count": 9,
   "metadata": {},
   "outputs": [
    {
     "name": "stdout",
     "output_type": "stream",
     "text": [
      "4\n"
     ]
    }
   ],
   "source": [
    "list=[\"amna\",\"saira\",\"aiman\",\"ayma\"]\n",
    "print(len(list))"
   ]
  },
  {
   "cell_type": "code",
   "execution_count": 10,
   "metadata": {},
   "outputs": [
    {
     "name": "stdout",
     "output_type": "stream",
     "text": [
      "21\n"
     ]
    }
   ],
   "source": [
    "list=[1,2,5,6,7]\n",
    "sum=sum(list)\n",
    "print(sum)"
   ]
  },
  {
   "cell_type": "code",
   "execution_count": 11,
   "metadata": {},
   "outputs": [
    {
     "name": "stdout",
     "output_type": "stream",
     "text": [
      "largest number is :  99\n"
     ]
    }
   ],
   "source": [
    "list=[1,78,99,56]\n",
    "print(\"largest number is : \",max(list))\n"
   ]
  },
  {
   "cell_type": "code",
   "execution_count": 12,
   "metadata": {},
   "outputs": [
    {
     "name": "stdout",
     "output_type": "stream",
     "text": [
      "1\n",
      "1\n",
      "2\n",
      "3\n"
     ]
    }
   ],
   "source": [
    "a=[1,1,2,3,5,8,13,21,34,55,89]\n",
    "for i in a:\n",
    "    if i<5:\n",
    "        print(i)\n",
    "        "
   ]
  },
  {
   "cell_type": "code",
   "execution_count": null,
   "metadata": {},
   "outputs": [],
   "source": []
  }
 ],
 "metadata": {
  "kernelspec": {
   "display_name": "Python 3",
   "language": "python",
   "name": "python3"
  },
  "language_info": {
   "codemirror_mode": {
    "name": "ipython",
    "version": 3
   },
   "file_extension": ".py",
   "mimetype": "text/x-python",
   "name": "python",
   "nbconvert_exporter": "python",
   "pygments_lexer": "ipython3",
   "version": "3.7.3"
  }
 },
 "nbformat": 4,
 "nbformat_minor": 2
}
