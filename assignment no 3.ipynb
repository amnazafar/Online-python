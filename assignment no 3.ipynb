{
 "cells": [
  {
   "cell_type": "code",
   "execution_count": null,
   "metadata": {},
   "outputs": [],
   "source": [
    "value1=int(input(\"Enter first value: \"))\n",
    "value2=int(input(\"Enter second value: \"))\n",
    "operator=input('Enter operator: ')\n",
    "if operator=='+':\n",
    "    value=value1+value2\n",
    "    print(value,\"answer\")\n",
    "if operator=='-':\n",
    "    value=value1-value2\n",
    "    print(value,\"answer\")\n",
    "if operator=='*':\n",
    "    value=value1*value2\n",
    "    print(value,\"answer\")\n",
    "if operator=='/':\n",
    "    value=value1/value2\n",
    "    print(value,\"answer\")\n",
    "if operator=='power':\n",
    "    value=value1**value2\n",
    "    print(value,\"answer\")"
   ]
  },
  {
   "cell_type": "code",
   "execution_count": 17,
   "metadata": {},
   "outputs": [
    {
     "name": "stdout",
     "output_type": "stream",
     "text": [
      "{'Name': 'Amna Zafar', 'job title': 'programming', 'age': '22', 'progress': 'good'}\n"
     ]
    }
   ],
   "source": [
    "employee={\"Name\":\"Amna Zafar\",\"job title\":\"programming\",\"age\":\"22\"}\n",
    "employee[\"progress\"]='good'\n",
    "print(employee)"
   ]
  },
  {
   "cell_type": "code",
   "execution_count": null,
   "metadata": {},
   "outputs": [],
   "source": [
    "mylist=[\"apple\",\"amna\",9,7,4,7,\"ayma\"]\n",
    "for item in mylist:\n",
    "    if item==int:\n",
    "        print(item)"
   ]
  },
  {
   "cell_type": "code",
   "execution_count": 14,
   "metadata": {},
   "outputs": [
    {
     "name": "stdout",
     "output_type": "stream",
     "text": [
      "Sum : 118\n"
     ]
    }
   ],
   "source": [
    "def returnSum(Dict): \n",
    "      \n",
    "    sum = 0\n",
    "    for i in Dict: \n",
    "        sum = sum + Dict[i] \n",
    "      \n",
    "    return sum\n",
    "   \n",
    "dict = {'a': 34, 'b':60, 'c':24} \n",
    "print(\"Sum :\", returnSum(dict)) \n",
    "      \n",
    "  "
   ]
  },
  {
   "cell_type": "code",
   "execution_count": 31,
   "metadata": {},
   "outputs": [
    {
     "name": "stdout",
     "output_type": "stream",
     "text": [
      "[6, 7, 10, 10, 11, 15, 15, 24, 24, 24, 36, 36, 50, 50]\n",
      "[10, 15, 24, 36, 50]\n"
     ]
    }
   ],
   "source": [
    "my_list = [24,36,24,36,10,50,15,11,24,10,50,15,6,7]\n",
    " \n",
    "my_list.sort()\n",
    "print(my_list)\n",
    " \n",
    "new_list = sorted(set(my_list))\n",
    "dup_list =[]\n",
    " \n",
    " \n",
    "for i in range(len(new_list)):\n",
    "        if (my_list.count(new_list[i]) > 1 ):\n",
    "            dup_list.append(new_list[i])\n",
    "        \n",
    "print(dup_list) "
   ]
  },
  {
   "cell_type": "code",
   "execution_count": 39,
   "metadata": {},
   "outputs": [
    {
     "name": "stdout",
     "output_type": "stream",
     "text": [
      "already exist\n"
     ]
    }
   ],
   "source": [
    "person = {\n",
    "  \"first_name\": \"AMNA\",\n",
    "  \"last_name\": \"ZAFAR\",\n",
    "  \"nickname\": \"SYEDA\"\n",
    "}\n",
    "if \"first_name\" in person:\n",
    "    print(\"already exist\")\n",
    "elif \"lastname\" in person:\n",
    "    print(\"already exist\")\n",
    "elif \"nickname\" in person:\n",
    "    print(\"already exist\")\n",
    "else:\n",
    "    print(\"not exist\")"
   ]
  },
  {
   "cell_type": "code",
   "execution_count": null,
   "metadata": {},
   "outputs": [],
   "source": []
  }
 ],
 "metadata": {
  "kernelspec": {
   "display_name": "Python 3",
   "language": "python",
   "name": "python3"
  },
  "language_info": {
   "codemirror_mode": {
    "name": "ipython",
    "version": 3
   },
   "file_extension": ".py",
   "mimetype": "text/x-python",
   "name": "python",
   "nbconvert_exporter": "python",
   "pygments_lexer": "ipython3",
   "version": "3.7.3"
  }
 },
 "nbformat": 4,
 "nbformat_minor": 2
}
