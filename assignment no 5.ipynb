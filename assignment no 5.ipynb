{
 "cells": [
  {
   "cell_type": "code",
   "execution_count": 2,
   "metadata": {},
   "outputs": [
    {
     "name": "stdout",
     "output_type": "stream",
     "text": [
      "1\n",
      "2\n",
      "6\n",
      "24\n",
      "120\n"
     ]
    }
   ],
   "source": [
    "#question_no_1\n",
    "\n",
    "def fact(numb):\n",
    "    i=1\n",
    "    fact=1\n",
    "    while i<=numb:\n",
    "        fact=fact*i\n",
    "        i=i+1\n",
    "        print(fact)\n",
    "fact(5)\n",
    "    \n",
    "    "
   ]
  },
  {
   "cell_type": "code",
   "execution_count": 3,
   "metadata": {},
   "outputs": [
    {
     "name": "stdout",
     "output_type": "stream",
     "text": [
      "uper case = 1, lower case=0\n",
      "uper case = 1, lower case=1\n",
      "uper case = 2, lower case=1\n",
      "uper case = 2, lower case=2\n"
     ]
    }
   ],
   "source": [
    "#question_no_2\n",
    "\n",
    "def calculate(string):\n",
    "    upper_case=0\n",
    "    lower_case=0\n",
    "    for letter in string:\n",
    "        if letter.isupper():\n",
    "            upper_case+=1\n",
    "        if letter.islower():\n",
    "            lower_case+=1\n",
    "        print(\"uper case = {}, lower case={}\".format(upper_case,lower_case))\n",
    "calculate(\"AmNa\")"
   ]
  },
  {
   "cell_type": "code",
   "execution_count": 13,
   "metadata": {},
   "outputs": [
    {
     "name": "stdout",
     "output_type": "stream",
     "text": [
      "Even number is : 8\n",
      "Even number is : 4\n",
      "Even number is : 2\n"
     ]
    }
   ],
   "source": [
    "#question_no_3\n",
    "\n",
    "def even():\n",
    "    list=[1,7,8,3,9,5,4,2]\n",
    "    for i in list:\n",
    "        if i%2==0:\n",
    "            print(\"Even number is : {}\".format(i))\n",
    "even()"
   ]
  },
  {
   "cell_type": "code",
   "execution_count": 11,
   "metadata": {},
   "outputs": [
    {
     "name": "stdout",
     "output_type": "stream",
     "text": [
      "Given string is palindrone\n"
     ]
    }
   ],
   "source": [
    "#question_no_4\n",
    "\n",
    "def reverse(string):\n",
    "    return string[::-1]\n",
    "def palindrone(string):\n",
    "    rev=reverse(string)\n",
    "    if rev==string:\n",
    "        print(\"Given string is palindrone\")\n",
    "    else:\n",
    "        print(\"Given string is not palindrone\")\n",
    "palindrone(\"madam\")\n",
    "    "
   ]
  },
  {
   "cell_type": "code",
   "execution_count": 29,
   "metadata": {},
   "outputs": [
    {
     "data": {
      "text/plain": [
       "True"
      ]
     },
     "execution_count": 29,
     "metadata": {},
     "output_type": "execute_result"
    }
   ],
   "source": [
    "#question_no_5\n",
    "\n",
    "def prime(number):\n",
    "    if (number==1):\n",
    "        return False\n",
    "    elif(number==2):\n",
    "        return True\n",
    "    else:\n",
    "        for x in range(2,number):\n",
    "            if number%x==0:\n",
    "                return False\n",
    "        return True\n",
    "           \n",
    "prime(53)\n",
    "        \n"
   ]
  },
  {
   "cell_type": "code",
   "execution_count": 45,
   "metadata": {},
   "outputs": [
    {
     "name": "stdout",
     "output_type": "stream",
     "text": [
      "dress = kurti\n",
      "accessories = hairband\n",
      "rings\n",
      "perfume\n"
     ]
    }
   ],
   "source": [
    "def shopping(dress,accessories,*params):\n",
    "    print(\"dress = {}\\naccessories = {}\".format(dress,accessories))\n",
    "    for value in params:\n",
    "        print(value)\n",
    "shopping(\"kurti\",\"hairband\",\"rings\",\"perfume\")"
   ]
  },
  {
   "cell_type": "code",
   "execution_count": null,
   "metadata": {},
   "outputs": [],
   "source": []
  }
 ],
 "metadata": {
  "kernelspec": {
   "display_name": "Python 3",
   "language": "python",
   "name": "python3"
  },
  "language_info": {
   "codemirror_mode": {
    "name": "ipython",
    "version": 3
   },
   "file_extension": ".py",
   "mimetype": "text/x-python",
   "name": "python",
   "nbconvert_exporter": "python",
   "pygments_lexer": "ipython3",
   "version": "3.7.3"
  }
 },
 "nbformat": 4,
 "nbformat_minor": 2
}
